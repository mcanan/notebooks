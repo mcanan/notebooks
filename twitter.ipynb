{
 "cells": [
  {
   "cell_type": "markdown",
   "metadata": {},
   "source": [
    "# Indice\n",
    "1. [Clasificación por partido político](#m1)\n",
    "2. [Clasificación por sexo](#m2)\n",
    "3. [Clasificación por equipo de futbol](#m3)\n"
   ]
  },
  {
   "cell_type": "code",
   "execution_count": 1,
   "metadata": {
    "collapsed": true
   },
   "outputs": [],
   "source": [
    "%matplotlib inline\n",
    "\n",
    "import numpy as np\n",
    "import pandas as pd\n",
    "import matplotlib.pyplot as plt\n",
    "import warnings\n",
    "\n",
    "from sklearn.grid_search import GridSearchCV\n",
    "from sklearn.linear_model import LogisticRegression\n",
    "from sklearn import cross_validation\n",
    "from sklearn.metrics import classification_report\n",
    "from sklearn.metrics import confusion_matrix\n",
    "\n",
    "warnings.filterwarnings(\"ignore\")"
   ]
  },
  {
   "cell_type": "markdown",
   "metadata": {},
   "source": [
    "<a id='m1'></a>\n",
    "# Clasificación por partido político"
   ]
  },
  {
   "cell_type": "code",
   "execution_count": 2,
   "metadata": {
    "collapsed": false
   },
   "outputs": [],
   "source": [
    "Xdf_p = pd.io.parsers.read_csv(\"matriz_politica.csv\", header=None)\n",
    "ydf_p = pd.io.parsers.read_csv(\"y_politica.csv\", header=None)\n",
    "X_p = Xdf_p.as_matrix()\n",
    "y_p = ydf_p.as_matrix()"
   ]
  },
  {
   "cell_type": "markdown",
   "metadata": {},
   "source": [
    "Para el caso de los partidos políticos tengo 3094 ejemplos de diferentes partidos:"
   ]
  },
  {
   "cell_type": "code",
   "execution_count": 3,
   "metadata": {
    "collapsed": false
   },
   "outputs": [
    {
     "data": {
      "text/html": [
       "<div>\n",
       "<table border=\"1\" class=\"dataframe\">\n",
       "  <thead>\n",
       "    <tr style=\"text-align: right;\">\n",
       "      <th></th>\n",
       "      <th>0</th>\n",
       "    </tr>\n",
       "  </thead>\n",
       "  <tbody>\n",
       "    <tr>\n",
       "      <th>3089</th>\n",
       "      <td>PI</td>\n",
       "    </tr>\n",
       "    <tr>\n",
       "      <th>3090</th>\n",
       "      <td>PN</td>\n",
       "    </tr>\n",
       "    <tr>\n",
       "      <th>3091</th>\n",
       "      <td>FA</td>\n",
       "    </tr>\n",
       "    <tr>\n",
       "      <th>3092</th>\n",
       "      <td>PN</td>\n",
       "    </tr>\n",
       "    <tr>\n",
       "      <th>3093</th>\n",
       "      <td>FA</td>\n",
       "    </tr>\n",
       "  </tbody>\n",
       "</table>\n",
       "</div>"
      ],
      "text/plain": [
       "       0\n",
       "3089  PI\n",
       "3090  PN\n",
       "3091  FA\n",
       "3092  PN\n",
       "3093  FA"
      ]
     },
     "execution_count": 3,
     "metadata": {},
     "output_type": "execute_result"
    }
   ],
   "source": [
    "ydf_p.tail()"
   ]
  },
  {
   "cell_type": "markdown",
   "metadata": {},
   "source": [
    "Repartidos de la siguiente manera:"
   ]
  },
  {
   "cell_type": "code",
   "execution_count": 4,
   "metadata": {
    "collapsed": false
   },
   "outputs": [
    {
     "data": {
      "text/plain": [
       "FA    1528\n",
       "PN     764\n",
       "PI     426\n",
       "PC     376\n",
       "Name: 0, dtype: int64"
      ]
     },
     "execution_count": 4,
     "metadata": {},
     "output_type": "execute_result"
    }
   ],
   "source": [
    "ydf_p[0].value_counts()"
   ]
  },
  {
   "cell_type": "markdown",
   "metadata": {},
   "source": [
    "Para este caso consideré 3939 features. Son la unión de las 2000 cuentas seguidas más comunes por los usuarios de cada partido.\n",
    "\n",
    "Al algoritmo le voy a dar para cada ejemplo si este sigue o no cada una de estas features."
   ]
  },
  {
   "cell_type": "code",
   "execution_count": 5,
   "metadata": {
    "collapsed": false
   },
   "outputs": [
    {
     "data": {
      "text/html": [
       "<div>\n",
       "<table border=\"1\" class=\"dataframe\">\n",
       "  <thead>\n",
       "    <tr style=\"text-align: right;\">\n",
       "      <th></th>\n",
       "      <th>0</th>\n",
       "      <th>1</th>\n",
       "      <th>2</th>\n",
       "      <th>3</th>\n",
       "      <th>4</th>\n",
       "      <th>5</th>\n",
       "      <th>6</th>\n",
       "      <th>7</th>\n",
       "      <th>8</th>\n",
       "      <th>9</th>\n",
       "      <th>...</th>\n",
       "      <th>3929</th>\n",
       "      <th>3930</th>\n",
       "      <th>3931</th>\n",
       "      <th>3932</th>\n",
       "      <th>3933</th>\n",
       "      <th>3934</th>\n",
       "      <th>3935</th>\n",
       "      <th>3936</th>\n",
       "      <th>3937</th>\n",
       "      <th>3938</th>\n",
       "    </tr>\n",
       "  </thead>\n",
       "  <tbody>\n",
       "    <tr>\n",
       "      <th>3089</th>\n",
       "      <td>0</td>\n",
       "      <td>0</td>\n",
       "      <td>0</td>\n",
       "      <td>0</td>\n",
       "      <td>0</td>\n",
       "      <td>0</td>\n",
       "      <td>0</td>\n",
       "      <td>0</td>\n",
       "      <td>0</td>\n",
       "      <td>0</td>\n",
       "      <td>...</td>\n",
       "      <td>0</td>\n",
       "      <td>0</td>\n",
       "      <td>0</td>\n",
       "      <td>0</td>\n",
       "      <td>0</td>\n",
       "      <td>0</td>\n",
       "      <td>0</td>\n",
       "      <td>0</td>\n",
       "      <td>0</td>\n",
       "      <td>0</td>\n",
       "    </tr>\n",
       "    <tr>\n",
       "      <th>3090</th>\n",
       "      <td>0</td>\n",
       "      <td>1</td>\n",
       "      <td>0</td>\n",
       "      <td>1</td>\n",
       "      <td>1</td>\n",
       "      <td>0</td>\n",
       "      <td>1</td>\n",
       "      <td>1</td>\n",
       "      <td>0</td>\n",
       "      <td>0</td>\n",
       "      <td>...</td>\n",
       "      <td>0</td>\n",
       "      <td>0</td>\n",
       "      <td>0</td>\n",
       "      <td>0</td>\n",
       "      <td>0</td>\n",
       "      <td>0</td>\n",
       "      <td>0</td>\n",
       "      <td>0</td>\n",
       "      <td>0</td>\n",
       "      <td>0</td>\n",
       "    </tr>\n",
       "    <tr>\n",
       "      <th>3091</th>\n",
       "      <td>0</td>\n",
       "      <td>0</td>\n",
       "      <td>0</td>\n",
       "      <td>0</td>\n",
       "      <td>0</td>\n",
       "      <td>0</td>\n",
       "      <td>0</td>\n",
       "      <td>0</td>\n",
       "      <td>0</td>\n",
       "      <td>0</td>\n",
       "      <td>...</td>\n",
       "      <td>1</td>\n",
       "      <td>0</td>\n",
       "      <td>0</td>\n",
       "      <td>0</td>\n",
       "      <td>0</td>\n",
       "      <td>0</td>\n",
       "      <td>0</td>\n",
       "      <td>0</td>\n",
       "      <td>0</td>\n",
       "      <td>0</td>\n",
       "    </tr>\n",
       "    <tr>\n",
       "      <th>3092</th>\n",
       "      <td>0</td>\n",
       "      <td>0</td>\n",
       "      <td>0</td>\n",
       "      <td>0</td>\n",
       "      <td>0</td>\n",
       "      <td>0</td>\n",
       "      <td>0</td>\n",
       "      <td>0</td>\n",
       "      <td>0</td>\n",
       "      <td>0</td>\n",
       "      <td>...</td>\n",
       "      <td>0</td>\n",
       "      <td>0</td>\n",
       "      <td>0</td>\n",
       "      <td>0</td>\n",
       "      <td>0</td>\n",
       "      <td>0</td>\n",
       "      <td>0</td>\n",
       "      <td>0</td>\n",
       "      <td>0</td>\n",
       "      <td>0</td>\n",
       "    </tr>\n",
       "    <tr>\n",
       "      <th>3093</th>\n",
       "      <td>0</td>\n",
       "      <td>1</td>\n",
       "      <td>0</td>\n",
       "      <td>0</td>\n",
       "      <td>0</td>\n",
       "      <td>0</td>\n",
       "      <td>0</td>\n",
       "      <td>0</td>\n",
       "      <td>0</td>\n",
       "      <td>0</td>\n",
       "      <td>...</td>\n",
       "      <td>0</td>\n",
       "      <td>0</td>\n",
       "      <td>0</td>\n",
       "      <td>0</td>\n",
       "      <td>0</td>\n",
       "      <td>0</td>\n",
       "      <td>0</td>\n",
       "      <td>0</td>\n",
       "      <td>0</td>\n",
       "      <td>0</td>\n",
       "    </tr>\n",
       "  </tbody>\n",
       "</table>\n",
       "<p>5 rows × 3939 columns</p>\n",
       "</div>"
      ],
      "text/plain": [
       "      0     1     2     3     4     5     6     7     8     9     ...   3929  \\\n",
       "3089     0     0     0     0     0     0     0     0     0     0  ...      0   \n",
       "3090     0     1     0     1     1     0     1     1     0     0  ...      0   \n",
       "3091     0     0     0     0     0     0     0     0     0     0  ...      1   \n",
       "3092     0     0     0     0     0     0     0     0     0     0  ...      0   \n",
       "3093     0     1     0     0     0     0     0     0     0     0  ...      0   \n",
       "\n",
       "      3930  3931  3932  3933  3934  3935  3936  3937  3938  \n",
       "3089     0     0     0     0     0     0     0     0     0  \n",
       "3090     0     0     0     0     0     0     0     0     0  \n",
       "3091     0     0     0     0     0     0     0     0     0  \n",
       "3092     0     0     0     0     0     0     0     0     0  \n",
       "3093     0     0     0     0     0     0     0     0     0  \n",
       "\n",
       "[5 rows x 3939 columns]"
      ]
     },
     "execution_count": 5,
     "metadata": {},
     "output_type": "execute_result"
    }
   ],
   "source": [
    "Xdf_p.tail()"
   ]
  },
  {
   "cell_type": "markdown",
   "metadata": {},
   "source": [
    "Con todos los datos disponibles, hago una búsqueda \"gruesa\" para el parámetro de regularización C entre 1e-5 y 1e5 con una 3-fold cross validation:"
   ]
  },
  {
   "cell_type": "code",
   "execution_count": 6,
   "metadata": {
    "collapsed": false
   },
   "outputs": [
    {
     "name": "stdout",
     "output_type": "stream",
     "text": [
      "0.572 (+/-0.051) para {'C': 1.0000000000000001e-05}\n",
      "0.597 (+/-0.055) para {'C': 3.3598182862837813e-05}\n",
      "0.648 (+/-0.041) para {'C': 0.00011288378916846884}\n",
      "0.687 (+/-0.021) para {'C': 0.00037926901907322499}\n",
      "0.736 (+/-0.018) para {'C': 0.0012742749857031334}\n",
      "0.766 (+/-0.022) para {'C': 0.0042813323987193914}\n",
      "0.779 (+/-0.011) para {'C': 0.01438449888287663}\n",
      "0.793 (+/-0.016) para {'C': 0.048329302385717518}\n",
      "0.792 (+/-0.017) para {'C': 0.16237767391887209}\n",
      "0.786 (+/-0.019) para {'C': 0.54555947811685146}\n",
      "0.779 (+/-0.020) para {'C': 1.8329807108324339}\n",
      "0.774 (+/-0.024) para {'C': 6.1584821106602545}\n",
      "0.768 (+/-0.029) para {'C': 20.691380811147901}\n",
      "0.763 (+/-0.025) para {'C': 69.519279617756055}\n",
      "0.760 (+/-0.023) para {'C': 233.57214690901213}\n",
      "0.759 (+/-0.026) para {'C': 784.75997035146065}\n",
      "0.756 (+/-0.025) para {'C': 2636.6508987303555}\n",
      "0.756 (+/-0.028) para {'C': 8858.6679041008319}\n",
      "0.755 (+/-0.027) para {'C': 29763.51441631313}\n",
      "0.755 (+/-0.026) para {'C': 100000.0}\n"
     ]
    }
   ],
   "source": [
    "Cs = np.logspace(-5,5, 20)\n",
    "clf_p = GridSearchCV(LogisticRegression(class_weight='balanced'), dict(C=Cs), cv=3,n_jobs=2)\n",
    "clf_p.fit(X_p, y_p[:,0])\n",
    "for params, mean_score, scores in clf_p.grid_scores_:\n",
    "    print(\"%0.3f (+/-%0.03f) para %r\"% (mean_score, scores.std() * 2, params))"
   ]
  },
  {
   "cell_type": "markdown",
   "metadata": {},
   "source": [
    "Como los mejores valores se encuentran entre 1e-3 y 1.8 hago una búsqueda más \"fina\" en este rango usando una 5-fold cross validation."
   ]
  },
  {
   "cell_type": "code",
   "execution_count": 7,
   "metadata": {
    "collapsed": false
   },
   "outputs": [
    {
     "name": "stdout",
     "output_type": "stream",
     "text": [
      "Mejor C: 0.106\n"
     ]
    },
    {
     "data": {
      "image/png": "[encoded data removed]",
      "text/plain": [
       "<matplotlib.figure.Figure at 0x7f79cd7aef50>"
      ]
     },
     "metadata": {},
     "output_type": "display_data"
    }
   ],
   "source": [
    "Cs = np.linspace(1e-3,2, 20)\n",
    "clf_p = GridSearchCV(LogisticRegression(class_weight='balanced'), dict(C=Cs), cv=5,n_jobs=2)\n",
    "clf_p.fit(X_p, y_p[:,0])\n",
    "\n",
    "scores = [x[1] for x in clf_p.grid_scores_]\n",
    "plt.plot(Cs, scores, label='C: ' + str(params))\n",
    "\n",
    "print(\"Mejor C: %0.3f\"% clf_p.best_params_[\"C\"])"
   ]
  },
  {
   "cell_type": "markdown",
   "metadata": {},
   "source": [
    "El mejor valor de C está en 0.1\n",
    "\n",
    "Parto el conjunto de datos en dos: entrenamiento y test (0.8 entrenamiento, 0.2 test)\n",
    "\n",
    "Entreno con el conjunto de entrenamiento y evaluo contra test:"
   ]
  },
  {
   "cell_type": "code",
   "execution_count": 8,
   "metadata": {
    "collapsed": false
   },
   "outputs": [
    {
     "name": "stdout",
     "output_type": "stream",
     "text": [
      "             precision    recall  f1-score   support\n",
      "\n",
      "         FA       0.86      0.89      0.87       316\n",
      "         PC       0.88      0.73      0.80        71\n",
      "         PI       0.59      0.62      0.60        84\n",
      "         PN       0.79      0.79      0.79       148\n",
      "\n",
      "avg / total       0.81      0.81      0.81       619\n",
      "\n",
      "[[280   1  18  17]\n",
      " [  8  52   6   5]\n",
      " [ 18   5  52   9]\n",
      " [ 18   1  12 117]]\n",
      "Score: 0.809\n"
     ]
    }
   ],
   "source": [
    "X_train, X_test, y_train, y_test = cross_validation.train_test_split(X_p, y_p, test_size=0.2, random_state=None)\n",
    "clf_p = LogisticRegression(C=0.1,class_weight='balanced')\n",
    "clf_p.fit(X_train, y_train[:,0])\n",
    "\n",
    "print classification_report(y_test[:,0], clf_p.predict(X_test))\n",
    "print confusion_matrix(y_test[:,0], clf_p.predict(X_test), clf_p.classes_)\n",
    "print \"Score: %0.3f\" % clf_p.score(X_test, y_test[:,0])"
   ]
  },
  {
   "cell_type": "markdown",
   "metadata": {},
   "source": [
    "La precisión final esta en el entorno de 0.8. \n",
    "\n",
    "Para el caso del partido independiente tanto la precision y el recall no es buena (muchos falsos positivos y falsos negativos). Supongo que se da porque es el tipo de cuenta que mas se puede \"confundir\" con la de otros partidos."
   ]
  },
  {
   "cell_type": "markdown",
   "metadata": {},
   "source": [
    "<a id='m2'></a>\n",
    "# Clasificación por sexo"
   ]
  },
  {
   "cell_type": "code",
   "execution_count": 9,
   "metadata": {
    "collapsed": true
   },
   "outputs": [],
   "source": [
    "ydf_s = pd.io.parsers.read_csv(\"y_sexo.csv\", header=None)\n",
    "Xdf_s = pd.io.parsers.read_csv(\"matriz_sexo.csv\", header=None)\n",
    "X_s = Xdf_s.as_matrix()\n",
    "y_s = ydf_s.as_matrix()"
   ]
  },
  {
   "cell_type": "markdown",
   "metadata": {},
   "source": [
    "Para este caso tengo 16943 ejemplos:"
   ]
  },
  {
   "cell_type": "code",
   "execution_count": 10,
   "metadata": {
    "collapsed": false
   },
   "outputs": [
    {
     "data": {
      "text/html": [
       "<div>\n",
       "<table border=\"1\" class=\"dataframe\">\n",
       "  <thead>\n",
       "    <tr style=\"text-align: right;\">\n",
       "      <th></th>\n",
       "      <th>0</th>\n",
       "    </tr>\n",
       "  </thead>\n",
       "  <tbody>\n",
       "    <tr>\n",
       "      <th>16938</th>\n",
       "      <td>M</td>\n",
       "    </tr>\n",
       "    <tr>\n",
       "      <th>16939</th>\n",
       "      <td>M</td>\n",
       "    </tr>\n",
       "    <tr>\n",
       "      <th>16940</th>\n",
       "      <td>M</td>\n",
       "    </tr>\n",
       "    <tr>\n",
       "      <th>16941</th>\n",
       "      <td>M</td>\n",
       "    </tr>\n",
       "    <tr>\n",
       "      <th>16942</th>\n",
       "      <td>M</td>\n",
       "    </tr>\n",
       "  </tbody>\n",
       "</table>\n",
       "</div>"
      ],
      "text/plain": [
       "       0\n",
       "16938  M\n",
       "16939  M\n",
       "16940  M\n",
       "16941  M\n",
       "16942  M"
      ]
     },
     "execution_count": 10,
     "metadata": {},
     "output_type": "execute_result"
    }
   ],
   "source": [
    "ydf_s.tail()"
   ]
  },
  {
   "cell_type": "markdown",
   "metadata": {},
   "source": [
    "Repartidos de la siguiente manera:"
   ]
  },
  {
   "cell_type": "code",
   "execution_count": 11,
   "metadata": {
    "collapsed": false
   },
   "outputs": [
    {
     "data": {
      "text/plain": [
       "M    9999\n",
       "F    6944\n",
       "Name: 0, dtype: int64"
      ]
     },
     "execution_count": 11,
     "metadata": {},
     "output_type": "execute_result"
    }
   ],
   "source": [
    "ydf_s[0].value_counts()"
   ]
  },
  {
   "cell_type": "markdown",
   "metadata": {},
   "source": [
    "Para este caso consideré 3992 features. Son la unión de las 3000 cuentas seguidas más comunes por los usuarios de cada sexo.\n",
    "\n",
    "Al algoritmo le voy a dar para cada ejemplo si este sigue o no cada una de estas features."
   ]
  },
  {
   "cell_type": "code",
   "execution_count": 12,
   "metadata": {
    "collapsed": false
   },
   "outputs": [
    {
     "data": {
      "text/html": [
       "<div>\n",
       "<table border=\"1\" class=\"dataframe\">\n",
       "  <thead>\n",
       "    <tr style=\"text-align: right;\">\n",
       "      <th></th>\n",
       "      <th>0</th>\n",
       "      <th>1</th>\n",
       "      <th>2</th>\n",
       "      <th>3</th>\n",
       "      <th>4</th>\n",
       "      <th>5</th>\n",
       "      <th>6</th>\n",
       "      <th>7</th>\n",
       "      <th>8</th>\n",
       "      <th>9</th>\n",
       "      <th>...</th>\n",
       "      <th>3982</th>\n",
       "      <th>3983</th>\n",
       "      <th>3984</th>\n",
       "      <th>3985</th>\n",
       "      <th>3986</th>\n",
       "      <th>3987</th>\n",
       "      <th>3988</th>\n",
       "      <th>3989</th>\n",
       "      <th>3990</th>\n",
       "      <th>3991</th>\n",
       "    </tr>\n",
       "  </thead>\n",
       "  <tbody>\n",
       "    <tr>\n",
       "      <th>16938</th>\n",
       "      <td>0</td>\n",
       "      <td>0</td>\n",
       "      <td>0</td>\n",
       "      <td>0</td>\n",
       "      <td>0</td>\n",
       "      <td>0</td>\n",
       "      <td>0</td>\n",
       "      <td>0</td>\n",
       "      <td>0</td>\n",
       "      <td>0</td>\n",
       "      <td>...</td>\n",
       "      <td>0</td>\n",
       "      <td>0</td>\n",
       "      <td>0</td>\n",
       "      <td>0</td>\n",
       "      <td>0</td>\n",
       "      <td>0</td>\n",
       "      <td>0</td>\n",
       "      <td>0</td>\n",
       "      <td>0</td>\n",
       "      <td>0</td>\n",
       "    </tr>\n",
       "    <tr>\n",
       "      <th>16939</th>\n",
       "      <td>0</td>\n",
       "      <td>0</td>\n",
       "      <td>0</td>\n",
       "      <td>0</td>\n",
       "      <td>0</td>\n",
       "      <td>0</td>\n",
       "      <td>0</td>\n",
       "      <td>0</td>\n",
       "      <td>0</td>\n",
       "      <td>0</td>\n",
       "      <td>...</td>\n",
       "      <td>0</td>\n",
       "      <td>0</td>\n",
       "      <td>0</td>\n",
       "      <td>0</td>\n",
       "      <td>0</td>\n",
       "      <td>0</td>\n",
       "      <td>0</td>\n",
       "      <td>0</td>\n",
       "      <td>0</td>\n",
       "      <td>0</td>\n",
       "    </tr>\n",
       "    <tr>\n",
       "      <th>16940</th>\n",
       "      <td>0</td>\n",
       "      <td>0</td>\n",
       "      <td>0</td>\n",
       "      <td>0</td>\n",
       "      <td>0</td>\n",
       "      <td>0</td>\n",
       "      <td>1</td>\n",
       "      <td>0</td>\n",
       "      <td>0</td>\n",
       "      <td>0</td>\n",
       "      <td>...</td>\n",
       "      <td>0</td>\n",
       "      <td>0</td>\n",
       "      <td>0</td>\n",
       "      <td>0</td>\n",
       "      <td>0</td>\n",
       "      <td>0</td>\n",
       "      <td>0</td>\n",
       "      <td>0</td>\n",
       "      <td>0</td>\n",
       "      <td>0</td>\n",
       "    </tr>\n",
       "    <tr>\n",
       "      <th>16941</th>\n",
       "      <td>0</td>\n",
       "      <td>0</td>\n",
       "      <td>0</td>\n",
       "      <td>0</td>\n",
       "      <td>0</td>\n",
       "      <td>0</td>\n",
       "      <td>0</td>\n",
       "      <td>0</td>\n",
       "      <td>0</td>\n",
       "      <td>0</td>\n",
       "      <td>...</td>\n",
       "      <td>0</td>\n",
       "      <td>0</td>\n",
       "      <td>0</td>\n",
       "      <td>0</td>\n",
       "      <td>0</td>\n",
       "      <td>1</td>\n",
       "      <td>0</td>\n",
       "      <td>0</td>\n",
       "      <td>0</td>\n",
       "      <td>0</td>\n",
       "    </tr>\n",
       "    <tr>\n",
       "      <th>16942</th>\n",
       "      <td>0</td>\n",
       "      <td>0</td>\n",
       "      <td>0</td>\n",
       "      <td>0</td>\n",
       "      <td>0</td>\n",
       "      <td>0</td>\n",
       "      <td>0</td>\n",
       "      <td>0</td>\n",
       "      <td>0</td>\n",
       "      <td>0</td>\n",
       "      <td>...</td>\n",
       "      <td>0</td>\n",
       "      <td>0</td>\n",
       "      <td>0</td>\n",
       "      <td>0</td>\n",
       "      <td>0</td>\n",
       "      <td>0</td>\n",
       "      <td>0</td>\n",
       "      <td>0</td>\n",
       "      <td>0</td>\n",
       "      <td>0</td>\n",
       "    </tr>\n",
       "  </tbody>\n",
       "</table>\n",
       "<p>5 rows × 3992 columns</p>\n",
       "</div>"
      ],
      "text/plain": [
       "       0     1     2     3     4     5     6     7     8     9     ...   3982  \\\n",
       "16938     0     0     0     0     0     0     0     0     0     0  ...      0   \n",
       "16939     0     0     0     0     0     0     0     0     0     0  ...      0   \n",
       "16940     0     0     0     0     0     0     1     0     0     0  ...      0   \n",
       "16941     0     0     0     0     0     0     0     0     0     0  ...      0   \n",
       "16942     0     0     0     0     0     0     0     0     0     0  ...      0   \n",
       "\n",
       "       3983  3984  3985  3986  3987  3988  3989  3990  3991  \n",
       "16938     0     0     0     0     0     0     0     0     0  \n",
       "16939     0     0     0     0     0     0     0     0     0  \n",
       "16940     0     0     0     0     0     0     0     0     0  \n",
       "16941     0     0     0     0     1     0     0     0     0  \n",
       "16942     0     0     0     0     0     0     0     0     0  \n",
       "\n",
       "[5 rows x 3992 columns]"
      ]
     },
     "execution_count": 12,
     "metadata": {},
     "output_type": "execute_result"
    }
   ],
   "source": [
    "Xdf_s.tail()"
   ]
  },
  {
   "cell_type": "markdown",
   "metadata": {},
   "source": [
    "Con todos los datos disponibles, hago una busqueda \"gruesa\" para el parametro de regularizacion C entre 1e-5 y 1e5 con una 3-fold cross validation:"
   ]
  },
  {
   "cell_type": "code",
   "execution_count": 13,
   "metadata": {
    "collapsed": false
   },
   "outputs": [
    {
     "name": "stdout",
     "output_type": "stream",
     "text": [
      "0.744 (+/-0.017) para {'C': 1.0000000000000001e-05}\n",
      "0.754 (+/-0.024) para {'C': 3.3598182862837813e-05}\n",
      "0.767 (+/-0.032) para {'C': 0.00011288378916846884}\n",
      "0.785 (+/-0.039) para {'C': 0.00037926901907322499}\n",
      "0.803 (+/-0.052) para {'C': 0.0012742749857031334}\n",
      "0.815 (+/-0.057) para {'C': 0.0042813323987193914}\n",
      "0.821 (+/-0.059) para {'C': 0.01438449888287663}\n",
      "0.816 (+/-0.063) para {'C': 0.048329302385717518}\n",
      "0.804 (+/-0.065) para {'C': 0.16237767391887209}\n",
      "0.787 (+/-0.061) para {'C': 0.54555947811685146}\n",
      "0.773 (+/-0.057) para {'C': 1.8329807108324339}\n",
      "0.759 (+/-0.058) para {'C': 6.1584821106602545}\n",
      "0.753 (+/-0.055) para {'C': 20.691380811147901}\n",
      "0.749 (+/-0.050) para {'C': 69.519279617756055}\n",
      "0.746 (+/-0.050) para {'C': 233.57214690901213}\n",
      "0.746 (+/-0.049) para {'C': 784.75997035146065}\n",
      "0.746 (+/-0.050) para {'C': 2636.6508987303555}\n",
      "0.745 (+/-0.051) para {'C': 8858.6679041008319}\n",
      "0.744 (+/-0.050) para {'C': 29763.51441631313}\n",
      "0.744 (+/-0.051) para {'C': 100000.0}\n"
     ]
    }
   ],
   "source": [
    "Cs = np.logspace(-5,5, 20)\n",
    "clf_s = GridSearchCV(LogisticRegression(class_weight='balanced'), dict(C=Cs), cv=3,n_jobs=2)\n",
    "clf_s.fit(X_s, y_s[:,0])\n",
    "for params, mean_score, scores in clf_s.grid_scores_:\n",
    "    print(\"%0.3f (+/-%0.03f) para %r\"% (mean_score, scores.std() * 2, params))"
   ]
  },
  {
   "cell_type": "markdown",
   "metadata": {},
   "source": [
    "Como los mejores valores se encuentran entre 4e-3 y 0.5 hago una busqueda mas fina en este rango."
   ]
  },
  {
   "cell_type": "code",
   "execution_count": 18,
   "metadata": {
    "collapsed": false
   },
   "outputs": [
    {
     "name": "stdout",
     "output_type": "stream",
     "text": [
      "Mejor C: 0.030\n"
     ]
    },
    {
     "data": {
      "image/png": "[encoded data removed]",
      "text/plain": [
       "<matplotlib.figure.Figure at 0x7f79d4af7910>"
      ]
     },
     "metadata": {},
     "output_type": "display_data"
    }
   ],
   "source": [
    "Cs = np.linspace(4e-3,0.5, 20)\n",
    "clf_s = GridSearchCV(LogisticRegression(class_weight='balanced'), dict(C=Cs), cv=3,n_jobs=2)\n",
    "clf_s.fit(X_s, y_s[:,0])\n",
    "\n",
    "scores = [x[1] for x in clf_s.grid_scores_]\n",
    "plt.plot(Cs, scores, label='C: ' + str(params))\n",
    "\n",
    "print(\"Mejor C: %0.3f\"% clf_s.best_params_[\"C\"])"
   ]
  },
  {
   "cell_type": "markdown",
   "metadata": {},
   "source": [
    "El mejor valor de C está en 0.03\n",
    "\n",
    "Parto el conjunto de datos en dos: entrenamiento y test (0.8 entrenamiento, 0.2 test)\n",
    "\n",
    "Entreno con el conjunto de entrenamiento y evaluo contra test:"
   ]
  },
  {
   "cell_type": "code",
   "execution_count": 19,
   "metadata": {
    "collapsed": false
   },
   "outputs": [
    {
     "name": "stdout",
     "output_type": "stream",
     "text": [
      "             precision    recall  f1-score   support\n",
      "\n",
      "          F       0.80      0.82      0.81      1439\n",
      "          M       0.86      0.85      0.86      1950\n",
      "\n",
      "avg / total       0.84      0.84      0.84      3389\n",
      "\n",
      "[[1176  263]\n",
      " [ 287 1663]]\n",
      "Score: 0.838\n"
     ]
    }
   ],
   "source": [
    "X_train, X_test, y_train, y_test = cross_validation.train_test_split(X_s, y_s, test_size=0.2, random_state=None)\n",
    "clf_s = LogisticRegression(C=0.03,class_weight='balanced')\n",
    "clf_s.fit(X_train, y_train[:,0])\n",
    "\n",
    "print classification_report(y_test[:,0], clf_s.predict(X_test))\n",
    "print confusion_matrix(y_test[:,0], clf_s.predict(X_test), clf_s.classes_)\n",
    "print \"Score: %0.3f\" % clf_s.score(X_test, y_test[:,0])"
   ]
  },
  {
   "cell_type": "markdown",
   "metadata": {},
   "source": [
    "La precisión final está en el entorno de 0.80 y 0.85."
   ]
  },
  {
   "cell_type": "markdown",
   "metadata": {},
   "source": [
    "<a id='m3'></a>\n",
    "# Clasificación por equipo de futbol"
   ]
  },
  {
   "cell_type": "code",
   "execution_count": 20,
   "metadata": {
    "collapsed": false
   },
   "outputs": [],
   "source": [
    "ydf_f = pd.io.parsers.read_csv(\"y_futbol.csv\", header=None)\n",
    "Xdf_f = pd.io.parsers.read_csv(\"matriz_futbol.csv\", header=None)\n",
    "X_f = Xdf_f.as_matrix()\n",
    "y_f = ydf_f.as_matrix()"
   ]
  },
  {
   "cell_type": "markdown",
   "metadata": {},
   "source": [
    "Para el caso de los partidos politicos tengo 2622 cuentas de diferentes partidos:"
   ]
  },
  {
   "cell_type": "code",
   "execution_count": 21,
   "metadata": {
    "collapsed": false
   },
   "outputs": [
    {
     "data": {
      "text/html": [
       "<div>\n",
       "<table border=\"1\" class=\"dataframe\">\n",
       "  <thead>\n",
       "    <tr style=\"text-align: right;\">\n",
       "      <th></th>\n",
       "      <th>0</th>\n",
       "    </tr>\n",
       "  </thead>\n",
       "  <tbody>\n",
       "    <tr>\n",
       "      <th>4714</th>\n",
       "      <td>DAN</td>\n",
       "    </tr>\n",
       "    <tr>\n",
       "      <th>4715</th>\n",
       "      <td>DAN</td>\n",
       "    </tr>\n",
       "    <tr>\n",
       "      <th>4716</th>\n",
       "      <td>DAN</td>\n",
       "    </tr>\n",
       "    <tr>\n",
       "      <th>4717</th>\n",
       "      <td>DAN</td>\n",
       "    </tr>\n",
       "    <tr>\n",
       "      <th>4718</th>\n",
       "      <td>DAN</td>\n",
       "    </tr>\n",
       "  </tbody>\n",
       "</table>\n",
       "</div>"
      ],
      "text/plain": [
       "        0\n",
       "4714  DAN\n",
       "4715  DAN\n",
       "4716  DAN\n",
       "4717  DAN\n",
       "4718  DAN"
      ]
     },
     "execution_count": 21,
     "metadata": {},
     "output_type": "execute_result"
    }
   ],
   "source": [
    "ydf_f.tail()"
   ]
  },
  {
   "cell_type": "markdown",
   "metadata": {},
   "source": [
    "Repartidas de la siguiente manera:"
   ]
  },
  {
   "cell_type": "code",
   "execution_count": 22,
   "metadata": {
    "collapsed": false
   },
   "outputs": [
    {
     "data": {
      "text/plain": [
       "PEN    1542\n",
       "NAC    1510\n",
       "DAN     491\n",
       "DEF     476\n",
       "WAN     391\n",
       "CER     297\n",
       "CL       12\n",
       "Name: 0, dtype: int64"
      ]
     },
     "execution_count": 22,
     "metadata": {},
     "output_type": "execute_result"
    }
   ],
   "source": [
    "ydf_f[0].value_counts()"
   ]
  },
  {
   "cell_type": "markdown",
   "metadata": {},
   "source": [
    "Para este caso considere 1379 features. Son la unión de las 500 cuentas seguidas más comunes por los usuarios de cada equipo. "
   ]
  },
  {
   "cell_type": "code",
   "execution_count": 23,
   "metadata": {
    "collapsed": false
   },
   "outputs": [
    {
     "data": {
      "text/html": [
       "<div>\n",
       "<table border=\"1\" class=\"dataframe\">\n",
       "  <thead>\n",
       "    <tr style=\"text-align: right;\">\n",
       "      <th></th>\n",
       "      <th>0</th>\n",
       "      <th>1</th>\n",
       "      <th>2</th>\n",
       "      <th>3</th>\n",
       "      <th>4</th>\n",
       "      <th>5</th>\n",
       "      <th>6</th>\n",
       "      <th>7</th>\n",
       "      <th>8</th>\n",
       "      <th>9</th>\n",
       "      <th>...</th>\n",
       "      <th>1369</th>\n",
       "      <th>1370</th>\n",
       "      <th>1371</th>\n",
       "      <th>1372</th>\n",
       "      <th>1373</th>\n",
       "      <th>1374</th>\n",
       "      <th>1375</th>\n",
       "      <th>1376</th>\n",
       "      <th>1377</th>\n",
       "      <th>1378</th>\n",
       "    </tr>\n",
       "  </thead>\n",
       "  <tbody>\n",
       "    <tr>\n",
       "      <th>4714</th>\n",
       "      <td>0</td>\n",
       "      <td>0</td>\n",
       "      <td>0</td>\n",
       "      <td>0</td>\n",
       "      <td>1</td>\n",
       "      <td>0</td>\n",
       "      <td>0</td>\n",
       "      <td>0</td>\n",
       "      <td>0</td>\n",
       "      <td>0</td>\n",
       "      <td>...</td>\n",
       "      <td>0</td>\n",
       "      <td>0</td>\n",
       "      <td>0</td>\n",
       "      <td>0</td>\n",
       "      <td>0</td>\n",
       "      <td>0</td>\n",
       "      <td>0</td>\n",
       "      <td>0</td>\n",
       "      <td>0</td>\n",
       "      <td>0</td>\n",
       "    </tr>\n",
       "    <tr>\n",
       "      <th>4715</th>\n",
       "      <td>0</td>\n",
       "      <td>0</td>\n",
       "      <td>0</td>\n",
       "      <td>0</td>\n",
       "      <td>0</td>\n",
       "      <td>0</td>\n",
       "      <td>0</td>\n",
       "      <td>0</td>\n",
       "      <td>0</td>\n",
       "      <td>0</td>\n",
       "      <td>...</td>\n",
       "      <td>0</td>\n",
       "      <td>0</td>\n",
       "      <td>0</td>\n",
       "      <td>0</td>\n",
       "      <td>0</td>\n",
       "      <td>0</td>\n",
       "      <td>0</td>\n",
       "      <td>0</td>\n",
       "      <td>0</td>\n",
       "      <td>0</td>\n",
       "    </tr>\n",
       "    <tr>\n",
       "      <th>4716</th>\n",
       "      <td>0</td>\n",
       "      <td>0</td>\n",
       "      <td>0</td>\n",
       "      <td>0</td>\n",
       "      <td>0</td>\n",
       "      <td>0</td>\n",
       "      <td>0</td>\n",
       "      <td>0</td>\n",
       "      <td>0</td>\n",
       "      <td>0</td>\n",
       "      <td>...</td>\n",
       "      <td>0</td>\n",
       "      <td>0</td>\n",
       "      <td>0</td>\n",
       "      <td>0</td>\n",
       "      <td>0</td>\n",
       "      <td>0</td>\n",
       "      <td>0</td>\n",
       "      <td>0</td>\n",
       "      <td>0</td>\n",
       "      <td>0</td>\n",
       "    </tr>\n",
       "    <tr>\n",
       "      <th>4717</th>\n",
       "      <td>0</td>\n",
       "      <td>0</td>\n",
       "      <td>0</td>\n",
       "      <td>0</td>\n",
       "      <td>0</td>\n",
       "      <td>0</td>\n",
       "      <td>0</td>\n",
       "      <td>0</td>\n",
       "      <td>0</td>\n",
       "      <td>0</td>\n",
       "      <td>...</td>\n",
       "      <td>0</td>\n",
       "      <td>0</td>\n",
       "      <td>0</td>\n",
       "      <td>0</td>\n",
       "      <td>0</td>\n",
       "      <td>0</td>\n",
       "      <td>0</td>\n",
       "      <td>0</td>\n",
       "      <td>0</td>\n",
       "      <td>0</td>\n",
       "    </tr>\n",
       "    <tr>\n",
       "      <th>4718</th>\n",
       "      <td>0</td>\n",
       "      <td>0</td>\n",
       "      <td>0</td>\n",
       "      <td>0</td>\n",
       "      <td>0</td>\n",
       "      <td>0</td>\n",
       "      <td>0</td>\n",
       "      <td>0</td>\n",
       "      <td>0</td>\n",
       "      <td>0</td>\n",
       "      <td>...</td>\n",
       "      <td>0</td>\n",
       "      <td>0</td>\n",
       "      <td>0</td>\n",
       "      <td>0</td>\n",
       "      <td>0</td>\n",
       "      <td>0</td>\n",
       "      <td>0</td>\n",
       "      <td>0</td>\n",
       "      <td>0</td>\n",
       "      <td>0</td>\n",
       "    </tr>\n",
       "  </tbody>\n",
       "</table>\n",
       "<p>5 rows × 1379 columns</p>\n",
       "</div>"
      ],
      "text/plain": [
       "      0     1     2     3     4     5     6     7     8     9     ...   1369  \\\n",
       "4714     0     0     0     0     1     0     0     0     0     0  ...      0   \n",
       "4715     0     0     0     0     0     0     0     0     0     0  ...      0   \n",
       "4716     0     0     0     0     0     0     0     0     0     0  ...      0   \n",
       "4717     0     0     0     0     0     0     0     0     0     0  ...      0   \n",
       "4718     0     0     0     0     0     0     0     0     0     0  ...      0   \n",
       "\n",
       "      1370  1371  1372  1373  1374  1375  1376  1377  1378  \n",
       "4714     0     0     0     0     0     0     0     0     0  \n",
       "4715     0     0     0     0     0     0     0     0     0  \n",
       "4716     0     0     0     0     0     0     0     0     0  \n",
       "4717     0     0     0     0     0     0     0     0     0  \n",
       "4718     0     0     0     0     0     0     0     0     0  \n",
       "\n",
       "[5 rows x 1379 columns]"
      ]
     },
     "execution_count": 23,
     "metadata": {},
     "output_type": "execute_result"
    }
   ],
   "source": [
    "Xdf_f.tail()"
   ]
  },
  {
   "cell_type": "markdown",
   "metadata": {},
   "source": [
    "Con todos los datos disponibles, hago una busqueda \"gruesa\" para el parametro de regularizacion C entre 1e-5 y 1e5 con una 3-fold cross validation:"
   ]
  },
  {
   "cell_type": "code",
   "execution_count": 24,
   "metadata": {
    "collapsed": false
   },
   "outputs": [
    {
     "name": "stdout",
     "output_type": "stream",
     "text": [
      "0.637 (+/-0.081) para {'C': 1.0000000000000001e-05}\n",
      "0.669 (+/-0.066) para {'C': 3.3598182862837813e-05}\n",
      "0.733 (+/-0.053) para {'C': 0.00011288378916846884}\n",
      "0.828 (+/-0.064) para {'C': 0.00037926901907322499}\n",
      "0.912 (+/-0.043) para {'C': 0.0012742749857031334}\n",
      "0.964 (+/-0.036) para {'C': 0.0042813323987193914}\n",
      "0.987 (+/-0.015) para {'C': 0.01438449888287663}\n",
      "0.989 (+/-0.010) para {'C': 0.048329302385717518}\n",
      "0.990 (+/-0.008) para {'C': 0.16237767391887209}\n",
      "0.990 (+/-0.008) para {'C': 0.54555947811685146}\n",
      "0.990 (+/-0.007) para {'C': 1.8329807108324339}\n",
      "0.990 (+/-0.008) para {'C': 6.1584821106602545}\n",
      "0.990 (+/-0.008) para {'C': 20.691380811147901}\n",
      "0.990 (+/-0.007) para {'C': 69.519279617756055}\n",
      "0.990 (+/-0.008) para {'C': 233.57214690901213}\n",
      "0.990 (+/-0.007) para {'C': 784.75997035146065}\n",
      "0.990 (+/-0.008) para {'C': 2636.6508987303555}\n",
      "0.990 (+/-0.008) para {'C': 8858.6679041008319}\n",
      "0.990 (+/-0.008) para {'C': 29763.51441631313}\n",
      "0.990 (+/-0.008) para {'C': 100000.0}\n"
     ]
    }
   ],
   "source": [
    "Cs = np.logspace(-5,5, 20)\n",
    "clf_f = GridSearchCV(LogisticRegression(class_weight='balanced'), dict(C=Cs), cv=3,n_jobs=2)\n",
    "clf_f.fit(X_f, y_f[:,0])\n",
    "for params, mean_score, scores in clf_f.grid_scores_:\n",
    "    print(\"%0.3f (+/-%0.03f) para %r\"% (mean_score, scores.std() * 2, params))"
   ]
  },
  {
   "cell_type": "markdown",
   "metadata": {},
   "source": [
    "Los mejores valores se encuentran despues de 1e-2. \n",
    "\n",
    "En este caso los valores son MUY buenos porque dentro de las features estan consideradas las cuentas oficiales de los equipos y estas condicionan fuertemente los resultados. \n",
    "\n",
    "Hago una busqueda mas fina en el rango 1e-2 a 0.5."
   ]
  },
  {
   "cell_type": "code",
   "execution_count": 25,
   "metadata": {
    "collapsed": false
   },
   "outputs": [
    {
     "name": "stdout",
     "output_type": "stream",
     "text": [
      "Mejor C: 0.036\n"
     ]
    },
    {
     "data": {
      "image/png": "[encoded data removed]",
      "text/plain": [
       "<matplotlib.figure.Figure at 0x7f799dc605d0>"
      ]
     },
     "metadata": {},
     "output_type": "display_data"
    }
   ],
   "source": [
    "Cs = np.linspace(1e-2,0.5, 20)\n",
    "clf_f = GridSearchCV(LogisticRegression(class_weight='balanced'), dict(C=Cs), cv=5,n_jobs=2)\n",
    "clf_f.fit(X_f, y_f[:,0])\n",
    "\n",
    "scores = [x[1] for x in clf_f.grid_scores_]\n",
    "plt.plot(Cs, scores, label='C: ' + str(params))\n",
    "\n",
    "print(\"Mejor C: %0.3f\"% clf_f.best_params_[\"C\"])"
   ]
  },
  {
   "cell_type": "markdown",
   "metadata": {},
   "source": [
    "El mejor valor de C esta en 0.03\n",
    "\n",
    "Parto el conjunto de datos en dos: entrenamiento y test (0.8 entrenamiento, 0.2 test)\n",
    "\n",
    "Entreno con el conjunto de entrenamiento y evaluo contra test:"
   ]
  },
  {
   "cell_type": "code",
   "execution_count": 28,
   "metadata": {
    "collapsed": false
   },
   "outputs": [
    {
     "name": "stdout",
     "output_type": "stream",
     "text": [
      "             precision    recall  f1-score   support\n",
      "\n",
      "        CER       1.00      1.00      1.00        58\n",
      "         CL       1.00      0.50      0.67         2\n",
      "        DAN       0.99      0.99      0.99        92\n",
      "        DEF       1.00      1.00      1.00        89\n",
      "        NAC       1.00      0.99      1.00       307\n",
      "        PEN       0.99      1.00      1.00       307\n",
      "        WAN       0.99      1.00      0.99        89\n",
      "\n",
      "avg / total       0.99      0.99      0.99       944\n",
      "\n",
      "[[ 58   0   0   0   0   0   0]\n",
      " [  0   1   0   0   1   0   0]\n",
      " [  0   0  91   0   0   1   0]\n",
      " [  0   0   0  89   0   0   0]\n",
      " [  0   0   0   0 305   1   1]\n",
      " [  0   0   1   0   0 306   0]\n",
      " [  0   0   0   0   0   0  89]]\n",
      "Score: 0.995\n"
     ]
    }
   ],
   "source": [
    "X_train, X_test, y_train, y_test = cross_validation.train_test_split(X_f, y_f, test_size=0.2, random_state=None)\n",
    "clf_f = LogisticRegression(C=0.3,class_weight='balanced')\n",
    "clf_f.fit(X_train, y_train[:,0])\n",
    "\n",
    "print classification_report(y_test[:,0], clf_f.predict(X_test))\n",
    "print confusion_matrix(y_test[:,0], clf_f.predict(X_test), clf_f.classes_)\n",
    "print \"Score: %0.3f\" % clf_f.score(X_test, y_test[:,0])"
   ]
  },
  {
   "cell_type": "markdown",
   "metadata": {},
   "source": [
    "La precision final es casi perfecta pero los resultados estan fuertemente condicionados por las cuentas oficiales de los equipos."
   ]
  }
 ],
 "metadata": {
  "kernelspec": {
   "display_name": "Python 2",
   "language": "python",
   "name": "python2"
  },
  "language_info": {
   "codemirror_mode": {
    "name": "ipython",
    "version": 2
   },
   "file_extension": ".py",
   "mimetype": "text/x-python",
   "name": "python",
   "nbconvert_exporter": "python",
   "pygments_lexer": "ipython2",
   "version": "2.7.9"
  }
 },
 "nbformat": 4,
 "nbformat_minor": 0
}
