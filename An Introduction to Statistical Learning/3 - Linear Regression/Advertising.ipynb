{
 "cells": [
  {
   "cell_type": "code",
   "execution_count": 99,
   "metadata": {
    "collapsed": false
   },
   "outputs": [
    {
     "name": "stdout",
     "output_type": "stream",
     "text": [
      "\n",
      "Analisis\n",
      "=========\n",
      "Intercept = 7.03259354913\n",
      "Coeficiente = [ 0.04753664]\n",
      "MSE training scikit=  10.5126529157\n",
      "MSE calculado =  10.5126529157\n",
      "RSS calculado =  2102.53058313\n",
      "TSS calculado =  5417.14875\n",
      "R2 calculado =  0.61187505085\n",
      "R2 =  0.61187505085\n",
      "RSE calculado =  3.25865636865\n",
      "SE Intercept =  0.457842940273\n",
      "SE Coeficiente =  0.0026906071878\n",
      "t Intercept =  15.3602751741\n",
      "t Coeficiente =  [ 17.6676256]\n",
      "P Coeficiente =  [ 0.]\n",
      "P Intercept =  0.0\n"
     ]
    }
   ],
   "source": [
    "import numpy as np\n",
    "import pandas as pd\n",
    "from scipy import stats\n",
    "import math\n",
    "import matplotlib.pyplot as plt\n",
    "from sklearn.metrics import mean_squared_error\n",
    "from sklearn.metrics import r2_score\n",
    "from sklearn import linear_model\n",
    "\n",
    "df = pd.read_csv('Advertising.csv')\n",
    "adv = df.as_matrix()\n",
    "clf = linear_model.LinearRegression(fit_intercept=True)\n",
    "tv = np.array(adv[:,1][np.newaxis].T)\n",
    "sales = np.array(adv[:,4])\n",
    "clf.fit(tv, sales)\n",
    "prediccion = clf.predict(tv)\n",
    "\n",
    "# sd = sqrt(varianza)\n",
    "# se = sd/sqrt(n)\n",
    "# MSE = mean squared error      = 1/n . SUM((y - f'(x))**2)\n",
    "# RSS = residual sum of squared = SUM((y - f'(x))**2)\n",
    "# TSS = total sum of squared = SUM((y - y_media)**2)\n",
    "# RSE = residual standard error = sqrt(RSS/(n-p-1)) # Prediccion de la SD de error\n",
    "# R2 = 1 - (RSS/TSS)\n",
    "# SE(beta0) = sqrt(RSE**2 . ( 1/n + mean(x)/SUM((x-mean(x))**2))\n",
    "# SE(beta1) = sqrt(RSE**2 / SUM((x-mean(x))**2))\n",
    "# t-statistic = (beta1-0)/SE(beta1)\n",
    "# p-value\n",
    "\n",
    "n = len(sales)\n",
    "print \"\\nAnalisis\"\n",
    "print \"=========\"\n",
    "print \"Intercept =\", clf.intercept_\n",
    "print \"Coeficiente =\", clf.coef_\n",
    "print \"MSE training scikit= \", mean_squared_error(sales, prediccion)\n",
    "print \"MSE calculado = \", sum((sales - prediccion)**2)/n\n",
    "RSS = sum((sales - prediccion)**2)\n",
    "TSS = sum((sales - np.mean(sales))**2)\n",
    "R2 = 1 - (RSS/TSS)\n",
    "print \"RSS calculado = \", RSS\n",
    "print \"TSS calculado = \", TSS\n",
    "print \"R2 calculado = \", R2\n",
    "print \"R2 = \",  r2_score(sales, prediccion)\n",
    "RSE = math.sqrt(RSS/(n-2))\n",
    "print \"RSE calculado = \", RSE\n",
    "sum_dif_x_mean_2 = sum((tv-np.mean(tv))**2)\n",
    "SE_intercept = math.sqrt((RSE**2)/n + (((RSE**2)*np.mean(tv)**2)/sum_dif_x_mean_2))\n",
    "SE_coeficiente = math.sqrt(RSE**2 / sum_dif_x_mean_2)\n",
    "print \"SE Intercept = \", SE_intercept\n",
    "print \"SE Coeficiente = \", SE_coeficiente\n",
    "print \"t Intercept = \", clf.intercept_/SE_intercept\n",
    "print \"t Coeficiente = \", clf.coef_/SE_coeficiente\n",
    "p_coeficiente = 2 * (1 - stats.t.cdf(np.abs(clf.coef_/SE_coeficiente), n-2))\n",
    "p_intercept = 2 * (1 - stats.t.cdf(np.abs(clf.intercept_/SE_intercept), n-2))\n",
    "print \"P Coeficiente = \", p_coeficiente\n",
    "print \"P Intercept = \", p_intercept\n"
   ]
  }
 ],
 "metadata": {
  "kernelspec": {
   "display_name": "Python 2",
   "language": "python",
   "name": "python2"
  },
  "language_info": {
   "codemirror_mode": {
    "name": "ipython",
    "version": 2
   },
   "file_extension": ".py",
   "mimetype": "text/x-python",
   "name": "python",
   "nbconvert_exporter": "python",
   "pygments_lexer": "ipython2",
   "version": "2.7.9"
  }
 },
 "nbformat": 4,
 "nbformat_minor": 0
}
