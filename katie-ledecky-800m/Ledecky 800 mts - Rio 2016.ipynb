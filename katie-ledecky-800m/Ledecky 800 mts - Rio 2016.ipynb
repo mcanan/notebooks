{
 "cells": [
  {
   "cell_type": "code",
   "execution_count": 1,
   "metadata": {},
   "outputs": [],
   "source": [
    "import numpy as np\n",
    "import scipy.stats\n",
    "\n",
    "def pronostico(tiempos_400, tiempos_800, tiempo_400_olimp):\n",
    "    confidence = 0.95\n",
    "    rels = tiempos_800/tiempos_400\n",
    "    f = np.mean(rels)\n",
    "    se = scipy.stats.sem(rels)\n",
    "    h = (se * scipy.stats.t.ppf((1 + confidence) / 2., len(rels)-1))\n",
    "   \n",
    "    mins_min, secs_min = divmod(tiempo_400_olimp * (f-h), 60)\n",
    "    mins, secs = divmod(tiempo_400_olimp * f, 60)\n",
    "    mins_max, secs_max = divmod(tiempo_400_olimp * (f+h), 60)\n",
    "    \n",
    "    return '%02d:%02d (%02d:%02d, %02d:%02d)' % (mins, secs, mins_min, secs_min, mins_max, secs_max)"
   ]
  },
  {
   "cell_type": "code",
   "execution_count": 2,
   "metadata": {},
   "outputs": [
    {
     "name": "stdout",
     "output_type": "stream",
     "text": [
      "Ledecky (USA): 08:02 (07:56, 08:08)\n",
      "Ashwood (AUS): 08:16 (08:10, 08:22)\n",
      "Carlin (UK): 08:16 (08:13, 08:19)\n",
      "Kapas (HUN): 08:20 (08:15, 08:25)\n",
      "Smith (USA): 08:21 (08:19, 08:24)\n",
      "MacLean (CAN): 08:21 (08:16, 08:26)\n"
     ]
    }
   ],
   "source": [
    "# Resultados Ledecky 2016: Austin, Mesa, Omaha\n",
    "tiempos_ledecky_400 = np.array([239.54, 242.15, 238.98])\n",
    "tiempos_ledecky_800 = np.array([486.68, 493.20, 490.32])\n",
    "resultados_ledecky_olimpiadas_400 = np.array([236.46])\n",
    "\n",
    "# Resultados Ashwood 2016: Santa clara, Adelaide, Brisbane\n",
    "tiempos_ashwood_400 = np.array([243.91, 243.71, 247.21])\n",
    "tiempos_ashwood_800 = np.array([498.14, 498.42, 501.16])\n",
    "resultados_ashwood_olimpiadas_400 = np.array([243.58])\n",
    "\n",
    "# Resultados Smith 2016: Omaha, Indianapolis, Charlotte\n",
    "tiempos_smith_400 = np.array([240.65, 243.33, 245.21])\n",
    "tiempos_smith_800 = np.array([500.18, 504.87, 507.79])\n",
    "resultados_smith_olimpiadas_400 = np.array([241.92])\n",
    "\n",
    "# Resultados MacLean 2016: Toronto, Indianapolis, Etobicoke\n",
    "tiempos_maclean_400 = np.array([243.84, 247.18, 249.16])\n",
    "tiempos_maclean_800 = np.array([501.40, 507.32, 508.66])\n",
    "resultados_maclean_olimpiadas_400 = np.array([244.69])\n",
    "\n",
    "# Resultados Kapas 2016: Gyor, London, Roma\n",
    "tiempos_kapas_400 = np.array([247.99, 243.47, 245.65])\n",
    "tiempos_kapas_800 = np.array([507.14, 501.40, 502.21])\n",
    "resultados_kapas_olimpiadas_400 = np.array([244.11])\n",
    "\n",
    "# Resultados Carlin 2016: London, Canet, Vichy\n",
    "tiempos_carlin_400 = np.array([244.85, 244.67, 245.37])\n",
    "tiempos_carlin_800 = np.array([503.52, 505.23, 504.59])\n",
    "resultados_carlin_olimpiadas_400 = np.array([241.23])\n",
    "\n",
    "# Ledecky\n",
    "res = pronostico(tiempos_ledecky_400, tiempos_ledecky_800, resultados_ledecky_olimpiadas_400)\n",
    "print (f\"Ledecky (USA): {res}\")\n",
    "\n",
    "# Ashwood\n",
    "res = pronostico(tiempos_ashwood_400, tiempos_ashwood_800, resultados_ashwood_olimpiadas_400)\n",
    "print (f\"Ashwood (AUS): {res}\")\n",
    "\n",
    "# Carlin\n",
    "res = pronostico(tiempos_carlin_400, tiempos_carlin_800, resultados_carlin_olimpiadas_400)\n",
    "print (f\"Carlin (UK): {res}\")\n",
    "\n",
    "# Kapas\n",
    "res = pronostico(tiempos_kapas_400, tiempos_kapas_800, resultados_kapas_olimpiadas_400)\n",
    "print (f\"Kapas (HUN): {res}\")\n",
    "\n",
    "# Smith\n",
    "res = pronostico(tiempos_smith_400, tiempos_smith_800, resultados_smith_olimpiadas_400)\n",
    "print (f\"Smith (USA): {res}\")\n",
    "\n",
    "# MacLean\n",
    "res = pronostico(tiempos_maclean_400, tiempos_maclean_800, resultados_maclean_olimpiadas_400)\n",
    "print (f\"MacLean (CAN): {res}\")"
   ]
  }
 ],
 "metadata": {
  "kernelspec": {
   "display_name": "Python 3",
   "language": "python",
   "name": "python3"
  },
  "language_info": {
   "codemirror_mode": {
    "name": "ipython",
    "version": 3
   },
   "file_extension": ".py",
   "mimetype": "text/x-python",
   "name": "python",
   "nbconvert_exporter": "python",
   "pygments_lexer": "ipython3",
   "version": "3.7.3"
  }
 },
 "nbformat": 4,
 "nbformat_minor": 1
}
