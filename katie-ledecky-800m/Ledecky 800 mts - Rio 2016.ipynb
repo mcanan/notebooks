{
 "cells": [
  {
   "cell_type": "code",
   "execution_count": 80,
   "metadata": {
    "collapsed": false
   },
   "outputs": [
    {
     "name": "stdout",
     "output_type": "stream",
     "text": [
      "Ledecky (USA):  08:02\n",
      "Ashwood (AUS):  08:16\n",
      "Carlin (UK):  08:16\n",
      "Kapas (HUN):  08:20\n",
      "Smith (USA):  08:21\n",
      "MacLean (CAN):  08:21\n"
     ]
    }
   ],
   "source": [
    "import numpy as np\n",
    "import datetime\n",
    "import matplotlib.pyplot as plt\n",
    "from sklearn import linear_model\n",
    "\n",
    "def pronostico(X,y,v):\n",
    "    clf = linear_model.LinearRegression(fit_intercept=False)\n",
    "    clf.fit(X,y)\n",
    "    prediccion_segundos = clf.predict([v])\n",
    "    mins, secs = divmod(prediccion_segundos, 60)\n",
    "    return '%02d:%02d' % (mins, secs)\n",
    "\n",
    "# Resultados Ledecky 2016: Austin, Mesa, Omaha\n",
    "tiempos_ledecky_400 = np.array([239.54, 242.15, 238.98])\n",
    "tiempos_ledecky_800 = np.array([486.68, 493.20, 490.32])\n",
    "resultados_ledecky_olimpiadas_400 = np.array([236.46])\n",
    "\n",
    "# Resultados Ashwood 2016: Santa clara, Adelaide, Brisbane\n",
    "tiempos_ashwood_400 = np.array([243.91, 243.71, 247.21])\n",
    "tiempos_ashwood_800 = np.array([498.14, 498.42, 501.16])\n",
    "resultados_ashwood_olimpiadas_400 = np.array([243.58])\n",
    "\n",
    "# Resultados Smith 2016: Omaha, Indianapolis, Charlotte\n",
    "tiempos_smith_400 = np.array([240.65, 243.33, 245.21])\n",
    "tiempos_smith_800 = np.array([500.18, 504.87, 507.79])\n",
    "resultados_smith_olimpiadas_400 = np.array([241.92])\n",
    "\n",
    "# Resultados MacLean 2016: Toronto, Indianapolis, Etobicoke\n",
    "tiempos_maclean_400 = np.array([243.84, 247.18, 249.16])\n",
    "tiempos_maclean_800 = np.array([501.40, 507.32, 508.66])\n",
    "resultados_maclean_olimpiadas_400 = np.array([244.69])\n",
    "\n",
    "# Resultados Kapas 2016: Gyor, London, Roma\n",
    "tiempos_kapas_400 = np.array([247.99, 243.47, 245.65])\n",
    "tiempos_kapas_800 = np.array([507.14, 501.40, 502.21])\n",
    "resultados_kapas_olimpiadas_400 = np.array([244.11])\n",
    "\n",
    "# Resultados Carlin 2016: London, Canet, Vichy\n",
    "tiempos_carlin_400 = np.array([244.85, 244.67, 245.37])\n",
    "tiempos_carlin_800 = np.array([503.52, 505.23, 504.59])\n",
    "resultados_carlin_olimpiadas_400 = np.array([241.23])\n",
    "\n",
    "# Ledecky\n",
    "X = np.array(tiempos_ledecky_400[np.newaxis].T)\n",
    "y = np.array(tiempos_ledecky_800)\n",
    "print \"Ledecky (USA): \", pronostico(X, y, resultados_ledecky_olimpiadas_400)\n",
    "\n",
    "# Ashwood\n",
    "X = np.array(tiempos_ashwood_400[np.newaxis].T)\n",
    "y = np.array(tiempos_ashwood_800)\n",
    "print \"Ashwood (AUS): \", pronostico(X, y, resultados_ashwood_olimpiadas_400)\n",
    "\n",
    "# Carlin\n",
    "X = np.array(tiempos_carlin_400[np.newaxis].T)\n",
    "y = np.array(tiempos_carlin_800)\n",
    "print \"Carlin (UK): \", pronostico(X, y, resultados_carlin_olimpiadas_400)\n",
    "\n",
    "# Kapas\n",
    "X = np.array(tiempos_kapas_400[np.newaxis].T)\n",
    "y = np.array(tiempos_kapas_800)\n",
    "print \"Kapas (HUN): \", pronostico(X, y, resultados_kapas_olimpiadas_400)\n",
    "\n",
    "# Smith\n",
    "X = np.array(tiempos_smith_400[np.newaxis].T)\n",
    "y = np.array(tiempos_smith_800)\n",
    "print \"Smith (USA): \", pronostico(X, y, resultados_smith_olimpiadas_400)\n",
    "\n",
    "# MacLean\n",
    "X = np.array(tiempos_maclean_400[np.newaxis].T)\n",
    "y = np.array(tiempos_maclean_800)\n",
    "print \"MacLean (CAN): \", pronostico(X, y, resultados_maclean_olimpiadas_400)"
   ]
  },
  {
   "cell_type": "code",
   "execution_count": null,
   "metadata": {
    "collapsed": true
   },
   "outputs": [],
   "source": []
  }
 ],
 "metadata": {
  "kernelspec": {
   "display_name": "Python 2",
   "language": "python",
   "name": "python2"
  },
  "language_info": {
   "codemirror_mode": {
    "name": "ipython",
    "version": 2
   },
   "file_extension": ".py",
   "mimetype": "text/x-python",
   "name": "python",
   "nbconvert_exporter": "python",
   "pygments_lexer": "ipython2",
   "version": "2.7.9"
  }
 },
 "nbformat": 4,
 "nbformat_minor": 0
}
